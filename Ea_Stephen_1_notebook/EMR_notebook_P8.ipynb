{
 "cells": [
  {
   "cell_type": "markdown",
   "metadata": {},
   "source": [
    "## Import des librairies et start application spark"
   ]
  },
  {
   "cell_type": "code",
   "execution_count": 1,
   "metadata": {},
   "outputs": [
    {
     "data": {
      "application/vnd.jupyter.widget-view+json": {
       "model_id": "94aa8a27ddd24dd0b4e4708d8440c672",
       "version_major": 2,
       "version_minor": 0
      },
      "text/plain": [
       "VBox()"
      ]
     },
     "metadata": {},
     "output_type": "display_data"
    },
    {
     "name": "stdout",
     "output_type": "stream",
     "text": [
      "Starting Spark application\n"
     ]
    },
    {
     "data": {
      "text/html": [
       "<table>\n",
       "<tr><th>ID</th><th>YARN Application ID</th><th>Kind</th><th>State</th><th>Spark UI</th><th>Driver log</th><th>User</th><th>Current session?</th></tr><tr><td>2</td><td>application_1663583550488_0003</td><td>pyspark</td><td>idle</td><td><a target=\"_blank\" href=\"http://ip-172-31-14-205.eu-west-3.compute.internal:20888/proxy/application_1663583550488_0003/\" class=\"emr-proxy-link\" emr-resource=\"j-1D3XKM4B0TK7S\n",
       "\" application-id=\"application_1663583550488_0003\">Link</a></td><td><a target=\"_blank\" href=\"http://ip-172-31-2-121.eu-west-3.compute.internal:8042/node/containerlogs/container_1663583550488_0003_01_000001/livy\" >Link</a></td><td>None</td><td>✔</td></tr></table>"
      ],
      "text/plain": [
       "<IPython.core.display.HTML object>"
      ]
     },
     "metadata": {},
     "output_type": "display_data"
    },
    {
     "data": {
      "application/vnd.jupyter.widget-view+json": {
       "model_id": "",
       "version_major": 2,
       "version_minor": 0
      },
      "text/plain": [
       "FloatProgress(value=0.0, bar_style='info', description='Progress:', layout=Layout(height='25px', width='50%'),…"
      ]
     },
     "metadata": {},
     "output_type": "display_data"
    },
    {
     "name": "stdout",
     "output_type": "stream",
     "text": [
      "SparkSession available as 'spark'.\n"
     ]
    },
    {
     "data": {
      "application/vnd.jupyter.widget-view+json": {
       "model_id": "",
       "version_major": 2,
       "version_minor": 0
      },
      "text/plain": [
       "FloatProgress(value=0.0, bar_style='info', description='Progress:', layout=Layout(height='25px', width='50%'),…"
      ]
     },
     "metadata": {},
     "output_type": "display_data"
    }
   ],
   "source": [
    "\n",
    "import time, cv2\n",
    "import os\n",
    "import io\n",
    "import numpy as np\n",
    "import pandas as pd\n",
    "from PIL import Image, ImageOps\n",
    "import seaborn as sns\n",
    "import matplotlib.pyplot as plt\n",
    "import pyarrow\n",
    "\n",
    "\n",
    "\n",
    "# pyspark librairie\n",
    "import pyspark \n",
    "## Spark\n",
    "#import findspark\n",
    "#findspark.init()\n",
    "from pyspark.sql.functions import *\n",
    "from pyspark.sql import SparkSession\n",
    "from pyspark import SparkContext, SparkConf\n",
    "from pyspark.sql.functions import col, pandas_udf, PandasUDFType, split\n",
    "from pyspark.ml.linalg import Vectors, VectorUDT\n",
    "from pyspark.sql.functions import udf\n",
    "from pyspark.ml.feature import StringIndexer, StandardScaler\n",
    "from pyspark.ml.feature import PCA\n",
    "\n",
    "# tensorflow modules\n",
    "from tensorflow.keras.applications.resnet50 import ResNet50, preprocess_input\n",
    "from tensorflow.keras.preprocessing.image import img_to_array\n",
    "\n",
    "\n",
    "import warnings\n",
    "warnings.filterwarnings(\"ignore\", category=np.VisibleDeprecationWarning) \n",
    "import warnings\n",
    "import logging\n",
    "logging.disable(logging.WARNING)\n",
    "warnings.filterwarnings('ignore')\n"
   ]
  },
  {
   "cell_type": "code",
   "execution_count": 2,
   "metadata": {},
   "outputs": [
    {
     "data": {
      "text/html": [
       "Current session configs: <tt>{'proxyUser': 'user_admin', 'conf': {'spark.pyspark.python': 'python3', 'spark.pyspark.virtualenv.enabled': 'true', 'spark.pyspark.virtualenv.type': 'native', 'spark.pyspark.virtualenv.bin.path': '/usr/bin/virtualenv'}, 'kind': 'pyspark'}</tt><br>"
      ],
      "text/plain": [
       "<IPython.core.display.HTML object>"
      ]
     },
     "metadata": {},
     "output_type": "display_data"
    },
    {
     "data": {
      "text/html": [
       "<table>\n",
       "<tr><th>ID</th><th>YARN Application ID</th><th>Kind</th><th>State</th><th>Spark UI</th><th>Driver log</th><th>User</th><th>Current session?</th></tr><tr><td>2</td><td>application_1663583550488_0003</td><td>pyspark</td><td>idle</td><td><a target=\"_blank\" href=\"http://ip-172-31-14-205.eu-west-3.compute.internal:20888/proxy/application_1663583550488_0003/\" class=\"emr-proxy-link\" emr-resource=\"j-1D3XKM4B0TK7S\n",
       "\" application-id=\"application_1663583550488_0003\">Link</a></td><td><a target=\"_blank\" href=\"http://ip-172-31-2-121.eu-west-3.compute.internal:8042/node/containerlogs/container_1663583550488_0003_01_000001/livy\" >Link</a></td><td>None</td><td>✔</td></tr></table>"
      ],
      "text/plain": [
       "<IPython.core.display.HTML object>"
      ]
     },
     "metadata": {},
     "output_type": "display_data"
    }
   ],
   "source": [
    "# info application\n",
    "%%info"
   ]
  },
  {
   "cell_type": "code",
   "execution_count": 25,
   "metadata": {},
   "outputs": [
    {
     "data": {
      "application/vnd.jupyter.widget-view+json": {
       "model_id": "b38c0cca1c484d718979321be5fda356",
       "version_major": 2,
       "version_minor": 0
      },
      "text/plain": [
       "VBox()"
      ]
     },
     "metadata": {},
     "output_type": "display_data"
    },
    {
     "data": {
      "application/vnd.jupyter.widget-view+json": {
       "model_id": "",
       "version_major": 2,
       "version_minor": 0
      },
      "text/plain": [
       "FloatProgress(value=0.0, bar_style='info', description='Progress:', layout=Layout(height='25px', width='50%'),…"
      ]
     },
     "metadata": {},
     "output_type": "display_data"
    }
   ],
   "source": [
    "# utiliser ggplot style \n",
    "plt.style.use(\"ggplot\")"
   ]
  },
  {
   "cell_type": "markdown",
   "metadata": {},
   "source": [
    "## Read les images depuis S3 \n",
    "\n",
    "- [X] <font color=blue> Read 2 catégories (Raspberry et Mango) \n",
    "    \n",
    "\n",
    "- [X] <font color=blue> 15 images Raspberry et 15 images Mango "
   ]
  },
  {
   "cell_type": "code",
   "execution_count": 3,
   "metadata": {},
   "outputs": [
    {
     "data": {
      "application/vnd.jupyter.widget-view+json": {
       "model_id": "675a3c0b7cc84ac698e6442efb7ea4f0",
       "version_major": 2,
       "version_minor": 0
      },
      "text/plain": [
       "VBox()"
      ]
     },
     "metadata": {},
     "output_type": "display_data"
    },
    {
     "data": {
      "application/vnd.jupyter.widget-view+json": {
       "model_id": "",
       "version_major": 2,
       "version_minor": 0
      },
      "text/plain": [
       "FloatProgress(value=0.0, bar_style='info', description='Progress:', layout=Layout(height='25px', width='50%'),…"
      ]
     },
     "metadata": {},
     "output_type": "display_data"
    }
   ],
   "source": [
    "def read_S3_buckets_img(s3path):\n",
    "    \n",
    "    s3path = s3path\n",
    "\n",
    "    # Read images avec le format binaryFile\n",
    "    df_images = spark.read.format(\"binaryFile\") \\\n",
    "      .option(\"pathGlobFilter\", \"*.jpg\") \\\n",
    "      .option(\"recursiveFileLookup\", \"true\") \\\n",
    "      .load(s3path)\n",
    "    df_images.printSchema()\n",
    "    \n",
    "    return df_images\n",
    "\n",
    "\n",
    "\n",
    "def spark_shape(self):\n",
    "    return (self.count(), len(self.columns))\n",
    "pyspark.sql.dataframe.DataFrame.shape = spark_shape"
   ]
  },
  {
   "cell_type": "code",
   "execution_count": 4,
   "metadata": {},
   "outputs": [
    {
     "data": {
      "application/vnd.jupyter.widget-view+json": {
       "model_id": "f3e0d56502db4d39b0acfc168dc99bd9",
       "version_major": 2,
       "version_minor": 0
      },
      "text/plain": [
       "VBox()"
      ]
     },
     "metadata": {},
     "output_type": "display_data"
    },
    {
     "data": {
      "application/vnd.jupyter.widget-view+json": {
       "model_id": "",
       "version_major": 2,
       "version_minor": 0
      },
      "text/plain": [
       "FloatProgress(value=0.0, bar_style='info', description='Progress:', layout=Layout(height='25px', width='50%'),…"
      ]
     },
     "metadata": {},
     "output_type": "display_data"
    },
    {
     "name": "stdout",
     "output_type": "stream",
     "text": [
      "Mango dataframe\n",
      "root\n",
      " |-- path: string (nullable = true)\n",
      " |-- modificationTime: timestamp (nullable = true)\n",
      " |-- length: long (nullable = true)\n",
      " |-- content: binary (nullable = true)\n",
      "\n",
      "Shape : (15, 4)\n",
      "-----------------------------------------\n",
      "Raspberry dataframe\n",
      "root\n",
      " |-- path: string (nullable = true)\n",
      " |-- modificationTime: timestamp (nullable = true)\n",
      " |-- length: long (nullable = true)\n",
      " |-- content: binary (nullable = true)\n",
      "\n",
      "Shape : (15, 4)\n",
      "DataFrame[path: string, modificationTime: timestamp, length: bigint, content: binary]"
     ]
    }
   ],
   "source": [
    "# Read images mango et raspberry dans dossier différents\n",
    "\n",
    "print(\"Mango dataframe\")\n",
    "df_images_mango = read_S3_buckets_img(\"s3a://ocfruitsp8/fruits_emr/mango/*\")\n",
    "print(\"Shape :\",df_images_mango.shape())\n",
    "df_images_mango\n",
    "\n",
    "print(\"-----------------------------------------\")\n",
    "\n",
    "print(\"Raspberry dataframe\")\n",
    "df_images_raspberry = read_S3_buckets_img(\"s3a://ocfruitsp8/fruits_emr/raspberry/*\")\n",
    "print(\"Shape :\",df_images_raspberry.shape())\n",
    "df_images_raspberry"
   ]
  },
  {
   "cell_type": "code",
   "execution_count": 5,
   "metadata": {},
   "outputs": [
    {
     "data": {
      "application/vnd.jupyter.widget-view+json": {
       "model_id": "78ed438563f4430fb8956c143e1457c8",
       "version_major": 2,
       "version_minor": 0
      },
      "text/plain": [
       "VBox()"
      ]
     },
     "metadata": {},
     "output_type": "display_data"
    },
    {
     "data": {
      "application/vnd.jupyter.widget-view+json": {
       "model_id": "",
       "version_major": 2,
       "version_minor": 0
      },
      "text/plain": [
       "FloatProgress(value=0.0, bar_style='info', description='Progress:', layout=Layout(height='25px', width='50%'),…"
      ]
     },
     "metadata": {},
     "output_type": "display_data"
    },
    {
     "name": "stdout",
     "output_type": "stream",
     "text": [
      "(15, 3)\n",
      "+--------------------+--------------------+---------+\n",
      "|                path|             content|    label|\n",
      "+--------------------+--------------------+---------+\n",
      "|s3a://ocfruitsp8/...|[FF D8 FF E0 00 1...|raspberry|\n",
      "|s3a://ocfruitsp8/...|[FF D8 FF E0 00 1...|raspberry|\n",
      "|s3a://ocfruitsp8/...|[FF D8 FF E0 00 1...|raspberry|\n",
      "|s3a://ocfruitsp8/...|[FF D8 FF E0 00 1...|raspberry|\n",
      "|s3a://ocfruitsp8/...|[FF D8 FF E0 00 1...|raspberry|\n",
      "|s3a://ocfruitsp8/...|[FF D8 FF E0 00 1...|raspberry|\n",
      "|s3a://ocfruitsp8/...|[FF D8 FF E0 00 1...|raspberry|\n",
      "|s3a://ocfruitsp8/...|[FF D8 FF E0 00 1...|raspberry|\n",
      "|s3a://ocfruitsp8/...|[FF D8 FF E0 00 1...|raspberry|\n",
      "|s3a://ocfruitsp8/...|[FF D8 FF E0 00 1...|raspberry|\n",
      "|s3a://ocfruitsp8/...|[FF D8 FF E0 00 1...|raspberry|\n",
      "|s3a://ocfruitsp8/...|[FF D8 FF E0 00 1...|raspberry|\n",
      "|s3a://ocfruitsp8/...|[FF D8 FF E0 00 1...|raspberry|\n",
      "|s3a://ocfruitsp8/...|[FF D8 FF E0 00 1...|raspberry|\n",
      "|s3a://ocfruitsp8/...|[FF D8 FF E0 00 1...|raspberry|\n",
      "+--------------------+--------------------+---------+"
     ]
    }
   ],
   "source": [
    "# Dataframe pyspark avec en colonnes path, content et label(jpg)\n",
    "df_images_raspberry = df_images_raspberry.withColumn('label', split(col('path'), '/').getItem(4))\n",
    "df_images_raspberry = df_images_raspberry.select('path', 'content', 'label')\n",
    "print(df_images_raspberry.shape())\n",
    "df_images_raspberry.show()"
   ]
  },
  {
   "cell_type": "code",
   "execution_count": 6,
   "metadata": {},
   "outputs": [
    {
     "data": {
      "application/vnd.jupyter.widget-view+json": {
       "model_id": "9973aa91705049d0a874d2770b579a9d",
       "version_major": 2,
       "version_minor": 0
      },
      "text/plain": [
       "VBox()"
      ]
     },
     "metadata": {},
     "output_type": "display_data"
    },
    {
     "data": {
      "application/vnd.jupyter.widget-view+json": {
       "model_id": "",
       "version_major": 2,
       "version_minor": 0
      },
      "text/plain": [
       "FloatProgress(value=0.0, bar_style='info', description='Progress:', layout=Layout(height='25px', width='50%'),…"
      ]
     },
     "metadata": {},
     "output_type": "display_data"
    },
    {
     "name": "stdout",
     "output_type": "stream",
     "text": [
      "(15, 3)\n",
      "+--------------------+--------------------+-----+\n",
      "|                path|             content|label|\n",
      "+--------------------+--------------------+-----+\n",
      "|s3a://ocfruitsp8/...|[FF D8 FF E0 00 1...|mango|\n",
      "|s3a://ocfruitsp8/...|[FF D8 FF E0 00 1...|mango|\n",
      "|s3a://ocfruitsp8/...|[FF D8 FF E0 00 1...|mango|\n",
      "|s3a://ocfruitsp8/...|[FF D8 FF E0 00 1...|mango|\n",
      "|s3a://ocfruitsp8/...|[FF D8 FF E0 00 1...|mango|\n",
      "|s3a://ocfruitsp8/...|[FF D8 FF E0 00 1...|mango|\n",
      "|s3a://ocfruitsp8/...|[FF D8 FF E0 00 1...|mango|\n",
      "|s3a://ocfruitsp8/...|[FF D8 FF E0 00 1...|mango|\n",
      "|s3a://ocfruitsp8/...|[FF D8 FF E0 00 1...|mango|\n",
      "|s3a://ocfruitsp8/...|[FF D8 FF E0 00 1...|mango|\n",
      "|s3a://ocfruitsp8/...|[FF D8 FF E0 00 1...|mango|\n",
      "|s3a://ocfruitsp8/...|[FF D8 FF E0 00 1...|mango|\n",
      "|s3a://ocfruitsp8/...|[FF D8 FF E0 00 1...|mango|\n",
      "|s3a://ocfruitsp8/...|[FF D8 FF E0 00 1...|mango|\n",
      "|s3a://ocfruitsp8/...|[FF D8 FF E0 00 1...|mango|\n",
      "+--------------------+--------------------+-----+"
     ]
    }
   ],
   "source": [
    "# Dataframe pyspark avec en colonnes path, content et label(jpg)\n",
    "df_images_mango = df_images_mango.withColumn('label', split(col('path'), '/').getItem(4))\n",
    "df_images_mango = df_images_mango.select('path', 'content', 'label')\n",
    "print(df_images_mango.shape())\n",
    "df_images_mango.show()"
   ]
  },
  {
   "cell_type": "code",
   "execution_count": 7,
   "metadata": {},
   "outputs": [
    {
     "data": {
      "application/vnd.jupyter.widget-view+json": {
       "model_id": "8e3ce0b76d764ad3bbc4f1c55d071672",
       "version_major": 2,
       "version_minor": 0
      },
      "text/plain": [
       "VBox()"
      ]
     },
     "metadata": {},
     "output_type": "display_data"
    },
    {
     "data": {
      "application/vnd.jupyter.widget-view+json": {
       "model_id": "",
       "version_major": 2,
       "version_minor": 0
      },
      "text/plain": [
       "FloatProgress(value=0.0, bar_style='info', description='Progress:', layout=Layout(height='25px', width='50%'),…"
      ]
     },
     "metadata": {},
     "output_type": "display_data"
    },
    {
     "name": "stdout",
     "output_type": "stream",
     "text": [
      "root\n",
      " |-- path: string (nullable = true)\n",
      " |-- content: binary (nullable = true)\n",
      " |-- label: string (nullable = true)\n",
      "\n",
      "(30, 3)\n",
      "+--------------------+--------------------+---------+\n",
      "|                path|             content|    label|\n",
      "+--------------------+--------------------+---------+\n",
      "|s3a://ocfruitsp8/...|[FF D8 FF E0 00 1...|raspberry|\n",
      "|s3a://ocfruitsp8/...|[FF D8 FF E0 00 1...|raspberry|\n",
      "|s3a://ocfruitsp8/...|[FF D8 FF E0 00 1...|raspberry|\n",
      "|s3a://ocfruitsp8/...|[FF D8 FF E0 00 1...|raspberry|\n",
      "|s3a://ocfruitsp8/...|[FF D8 FF E0 00 1...|raspberry|\n",
      "|s3a://ocfruitsp8/...|[FF D8 FF E0 00 1...|raspberry|\n",
      "|s3a://ocfruitsp8/...|[FF D8 FF E0 00 1...|raspberry|\n",
      "|s3a://ocfruitsp8/...|[FF D8 FF E0 00 1...|raspberry|\n",
      "|s3a://ocfruitsp8/...|[FF D8 FF E0 00 1...|raspberry|\n",
      "|s3a://ocfruitsp8/...|[FF D8 FF E0 00 1...|raspberry|\n",
      "|s3a://ocfruitsp8/...|[FF D8 FF E0 00 1...|raspberry|\n",
      "|s3a://ocfruitsp8/...|[FF D8 FF E0 00 1...|raspberry|\n",
      "|s3a://ocfruitsp8/...|[FF D8 FF E0 00 1...|raspberry|\n",
      "|s3a://ocfruitsp8/...|[FF D8 FF E0 00 1...|raspberry|\n",
      "|s3a://ocfruitsp8/...|[FF D8 FF E0 00 1...|raspberry|\n",
      "|s3a://ocfruitsp8/...|[FF D8 FF E0 00 1...|    mango|\n",
      "|s3a://ocfruitsp8/...|[FF D8 FF E0 00 1...|    mango|\n",
      "|s3a://ocfruitsp8/...|[FF D8 FF E0 00 1...|    mango|\n",
      "|s3a://ocfruitsp8/...|[FF D8 FF E0 00 1...|    mango|\n",
      "|s3a://ocfruitsp8/...|[FF D8 FF E0 00 1...|    mango|\n",
      "+--------------------+--------------------+---------+\n",
      "only showing top 20 rows"
     ]
    }
   ],
   "source": [
    "# Concatener df raspberry et mango (axis=0)\n",
    "df_images = df_images_raspberry.unionByName(df_images_mango, allowMissingColumns=True)\n",
    "df_images.printSchema()\n",
    "print(df_images.shape())\n",
    "df_images.show()"
   ]
  },
  {
   "cell_type": "code",
   "execution_count": 8,
   "metadata": {},
   "outputs": [
    {
     "data": {
      "application/vnd.jupyter.widget-view+json": {
       "model_id": "9aed27ed9d8c4fcbabab2c48b6c78913",
       "version_major": 2,
       "version_minor": 0
      },
      "text/plain": [
       "VBox()"
      ]
     },
     "metadata": {},
     "output_type": "display_data"
    },
    {
     "data": {
      "application/vnd.jupyter.widget-view+json": {
       "model_id": "",
       "version_major": 2,
       "version_minor": 0
      },
      "text/plain": [
       "FloatProgress(value=0.0, bar_style='info', description='Progress:', layout=Layout(height='25px', width='50%'),…"
      ]
     },
     "metadata": {},
     "output_type": "display_data"
    }
   ],
   "source": [
    "def model_fn():\n",
    "    \"\"\"\n",
    "    Returns a ResNet50 model with top layer removed and broadcasted pretrained weights.\n",
    "    \"\"\"\n",
    "    model = ResNet50(weights=None, include_top=False) \n",
    "    model.set_weights(bc_model_weights.value)\n",
    "    return model"
   ]
  },
  {
   "cell_type": "code",
   "execution_count": 9,
   "metadata": {},
   "outputs": [
    {
     "data": {
      "application/vnd.jupyter.widget-view+json": {
       "model_id": "6c099eb4061f4a3082551e95350b44d4",
       "version_major": 2,
       "version_minor": 0
      },
      "text/plain": [
       "VBox()"
      ]
     },
     "metadata": {},
     "output_type": "display_data"
    },
    {
     "data": {
      "application/vnd.jupyter.widget-view+json": {
       "model_id": "",
       "version_major": 2,
       "version_minor": 0
      },
      "text/plain": [
       "FloatProgress(value=0.0, bar_style='info', description='Progress:', layout=Layout(height='25px', width='50%'),…"
      ]
     },
     "metadata": {},
     "output_type": "display_data"
    }
   ],
   "source": [
    "def preprocess(content):\n",
    "    \"\"\"\n",
    "    Preprocesses raw image bytes for prediction.\n",
    "    \"\"\"\n",
    "    img = Image.open(io.BytesIO(content)).resize([224, 224])\n",
    "    arr = img_to_array(img)\n",
    "    return preprocess_input(arr) "
   ]
  },
  {
   "cell_type": "code",
   "execution_count": 10,
   "metadata": {},
   "outputs": [
    {
     "data": {
      "application/vnd.jupyter.widget-view+json": {
       "model_id": "e03df6aeccda42599e3601e60c0c69a7",
       "version_major": 2,
       "version_minor": 0
      },
      "text/plain": [
       "VBox()"
      ]
     },
     "metadata": {},
     "output_type": "display_data"
    },
    {
     "data": {
      "application/vnd.jupyter.widget-view+json": {
       "model_id": "",
       "version_major": 2,
       "version_minor": 0
      },
      "text/plain": [
       "FloatProgress(value=0.0, bar_style='info', description='Progress:', layout=Layout(height='25px', width='50%'),…"
      ]
     },
     "metadata": {},
     "output_type": "display_data"
    }
   ],
   "source": [
    "def featurize_series(model, content_series):\n",
    "    \n",
    "    \"\"\"\n",
    "    Featurize a pd.Series of raw images using the input model.\n",
    "    :return: a pd.Series of image features\n",
    "    \"\"\"\n",
    "    \n",
    "    input = np.stack(content_series.map(preprocess)) \n",
    "    preds = model.predict(input)\n",
    "    output = [p.flatten() for p in preds]\n",
    "    return pd.Series(output)"
   ]
  },
  {
   "cell_type": "code",
   "execution_count": 11,
   "metadata": {},
   "outputs": [
    {
     "data": {
      "application/vnd.jupyter.widget-view+json": {
       "model_id": "76dee656767f4555b0e8d34df821d55d",
       "version_major": 2,
       "version_minor": 0
      },
      "text/plain": [
       "VBox()"
      ]
     },
     "metadata": {},
     "output_type": "display_data"
    },
    {
     "data": {
      "application/vnd.jupyter.widget-view+json": {
       "model_id": "",
       "version_major": 2,
       "version_minor": 0
      },
      "text/plain": [
       "FloatProgress(value=0.0, bar_style='info', description='Progress:', layout=Layout(height='25px', width='50%'),…"
      ]
     },
     "metadata": {},
     "output_type": "display_data"
    }
   ],
   "source": [
    "@pandas_udf('array<float>', PandasUDFType.SCALAR_ITER)\n",
    "def featurize_udf(content_series_iter):\n",
    "    '''\n",
    "    This method is a Scalar Iterator pandas UDF wrapping our featurization function.\n",
    "    The decorator specifies that this returns a Spark DataFrame column of type ArrayType(FloatType).\n",
    "  \n",
    "    :param content_series_iter: This argument is an iterator over batches of data, where each batch\n",
    "                                is a pandas Series of image data.\n",
    "    '''\n",
    "    model = model_fn()\n",
    "    for content_series in content_series_iter:\n",
    "        yield featurize_series(model, content_series)"
   ]
  },
  {
   "cell_type": "markdown",
   "metadata": {},
   "source": [
    "## Features extraction ResNet50\n",
    "\n",
    "- [X] <font color=blue> Supprimer les 2 derniéres couches "
   ]
  },
  {
   "cell_type": "code",
   "execution_count": 12,
   "metadata": {},
   "outputs": [
    {
     "data": {
      "application/vnd.jupyter.widget-view+json": {
       "model_id": "f3a35733b5734f72929f60b16799f3b5",
       "version_major": 2,
       "version_minor": 0
      },
      "text/plain": [
       "VBox()"
      ]
     },
     "metadata": {},
     "output_type": "display_data"
    },
    {
     "data": {
      "application/vnd.jupyter.widget-view+json": {
       "model_id": "",
       "version_major": 2,
       "version_minor": 0
      },
      "text/plain": [
       "FloatProgress(value=0.0, bar_style='info', description='Progress:', layout=Layout(height='25px', width='50%'),…"
      ]
     },
     "metadata": {},
     "output_type": "display_data"
    },
    {
     "name": "stdout",
     "output_type": "stream",
     "text": [
      "Downloading data from https://storage.googleapis.com/tensorflow/keras-applications/resnet/resnet50_weights_tf_dim_ordering_tf_kernels_notop.h5\n",
      "94773248/94765736 [==============================] - 0s 0us/step"
     ]
    }
   ],
   "source": [
    "# charge modéle\n",
    "model = ResNet50(include_top=False)"
   ]
  },
  {
   "cell_type": "code",
   "execution_count": 13,
   "metadata": {},
   "outputs": [
    {
     "data": {
      "application/vnd.jupyter.widget-view+json": {
       "model_id": "92637dd393a44ea8bb253dbb1ba30300",
       "version_major": 2,
       "version_minor": 0
      },
      "text/plain": [
       "VBox()"
      ]
     },
     "metadata": {},
     "output_type": "display_data"
    },
    {
     "data": {
      "application/vnd.jupyter.widget-view+json": {
       "model_id": "",
       "version_major": 2,
       "version_minor": 0
      },
      "text/plain": [
       "FloatProgress(value=0.0, bar_style='info', description='Progress:', layout=Layout(height='25px', width='50%'),…"
      ]
     },
     "metadata": {},
     "output_type": "display_data"
    }
   ],
   "source": [
    "#variable de diffusion. Les variables de diffusion permettent au programmeur de conserver une variable en lecture seule en cache sur chaque machine plutôt que d'en expédier une copie avec les tâches. Ils peuvent être utilisés, par exemple, pour donner à chaque nœud une copie d'un grand ensemble de données d'entrée de manière efficace. Spark tente également de distribuer des variables de diffusion à l'aide d'algorithmes de diffusion efficaces pour réduire les coûts de communication.\n",
    "\n",
    "bc_model_weights = spark.sparkContext.broadcast(model.get_weights()) "
   ]
  },
  {
   "cell_type": "code",
   "execution_count": 14,
   "metadata": {},
   "outputs": [
    {
     "data": {
      "application/vnd.jupyter.widget-view+json": {
       "model_id": "be355967466640d48c46fa0edc13a6bc",
       "version_major": 2,
       "version_minor": 0
      },
      "text/plain": [
       "VBox()"
      ]
     },
     "metadata": {},
     "output_type": "display_data"
    },
    {
     "data": {
      "application/vnd.jupyter.widget-view+json": {
       "model_id": "",
       "version_major": 2,
       "version_minor": 0
      },
      "text/plain": [
       "FloatProgress(value=0.0, bar_style='info', description='Progress:', layout=Layout(height='25px', width='50%'),…"
      ]
     },
     "metadata": {},
     "output_type": "display_data"
    },
    {
     "name": "stdout",
     "output_type": "stream",
     "text": [
      "root\n",
      " |-- path: string (nullable = true)\n",
      " |-- label: string (nullable = true)\n",
      " |-- features_extraction_ResNet50: array (nullable = true)\n",
      " |    |-- element: float (containsNull = true)"
     ]
    }
   ],
   "source": [
    "# Appliquer la feature_udf sur content\n",
    "df_features_extraction = df_images.select(col(\"path\"), col(\"label\"), featurize_udf(\"content\").alias(\"features_extraction_ResNet50\"))\n",
    "df_features_extraction.printSchema()"
   ]
  },
  {
   "cell_type": "code",
   "execution_count": 15,
   "metadata": {},
   "outputs": [
    {
     "data": {
      "application/vnd.jupyter.widget-view+json": {
       "model_id": "b09b9b39d4df491ca29cb9688082830e",
       "version_major": 2,
       "version_minor": 0
      },
      "text/plain": [
       "VBox()"
      ]
     },
     "metadata": {},
     "output_type": "display_data"
    },
    {
     "data": {
      "application/vnd.jupyter.widget-view+json": {
       "model_id": "",
       "version_major": 2,
       "version_minor": 0
      },
      "text/plain": [
       "FloatProgress(value=0.0, bar_style='info', description='Progress:', layout=Layout(height='25px', width='50%'),…"
      ]
     },
     "metadata": {},
     "output_type": "display_data"
    },
    {
     "name": "stdout",
     "output_type": "stream",
     "text": [
      "+--------------------+---------+----------------------------+\n",
      "|                path|    label|features_extraction_ResNet50|\n",
      "+--------------------+---------+----------------------------+\n",
      "|s3a://ocfruitsp8/...|raspberry|        [0.0, 0.0, 0.0, 0...|\n",
      "|s3a://ocfruitsp8/...|raspberry|        [0.0, 0.0, 0.0, 0...|\n",
      "|s3a://ocfruitsp8/...|raspberry|        [0.0, 0.0, 0.0, 0...|\n",
      "|s3a://ocfruitsp8/...|raspberry|        [0.0, 0.0, 0.0, 0...|\n",
      "|s3a://ocfruitsp8/...|raspberry|        [0.0, 0.0, 0.0, 0...|\n",
      "|s3a://ocfruitsp8/...|raspberry|        [0.0, 0.0, 0.0, 0...|\n",
      "|s3a://ocfruitsp8/...|raspberry|        [0.0, 0.0, 0.0, 0...|\n",
      "|s3a://ocfruitsp8/...|raspberry|        [0.0, 0.0, 0.0, 0...|\n",
      "|s3a://ocfruitsp8/...|raspberry|        [0.0, 0.0, 0.0, 0...|\n",
      "|s3a://ocfruitsp8/...|raspberry|        [0.0, 0.0, 0.0, 0...|\n",
      "|s3a://ocfruitsp8/...|raspberry|        [0.0, 0.0, 0.0, 0...|\n",
      "|s3a://ocfruitsp8/...|raspberry|        [0.0, 0.0, 0.0, 0...|\n",
      "|s3a://ocfruitsp8/...|raspberry|        [0.0, 0.0, 0.0, 0...|\n",
      "|s3a://ocfruitsp8/...|raspberry|        [0.0, 0.0, 0.0, 0...|\n",
      "|s3a://ocfruitsp8/...|raspberry|        [0.0, 0.0, 0.0, 0...|\n",
      "|s3a://ocfruitsp8/...|    mango|        [0.0, 0.0, 0.0, 0...|\n",
      "|s3a://ocfruitsp8/...|    mango|        [0.0, 0.0, 0.0, 0...|\n",
      "|s3a://ocfruitsp8/...|    mango|        [0.0, 0.0, 0.0, 0...|\n",
      "|s3a://ocfruitsp8/...|    mango|        [0.0, 0.0, 0.0, 0...|\n",
      "|s3a://ocfruitsp8/...|    mango|        [0.0, 0.0, 0.0, 0...|\n",
      "+--------------------+---------+----------------------------+\n",
      "only showing top 20 rows"
     ]
    }
   ],
   "source": [
    "# afficher la features extractions Resnet50\n",
    "df_features_extraction.show()"
   ]
  },
  {
   "cell_type": "code",
   "execution_count": 16,
   "metadata": {},
   "outputs": [
    {
     "data": {
      "application/vnd.jupyter.widget-view+json": {
       "model_id": "d6e4b1fd5acb43f9832fcdd544bafa4b",
       "version_major": 2,
       "version_minor": 0
      },
      "text/plain": [
       "VBox()"
      ]
     },
     "metadata": {},
     "output_type": "display_data"
    },
    {
     "data": {
      "application/vnd.jupyter.widget-view+json": {
       "model_id": "",
       "version_major": 2,
       "version_minor": 0
      },
      "text/plain": [
       "FloatProgress(value=0.0, bar_style='info', description='Progress:', layout=Layout(height='25px', width='50%'),…"
      ]
     },
     "metadata": {},
     "output_type": "display_data"
    }
   ],
   "source": [
    "# transform to vector \n",
    "to_vector = udf(lambda x: Vectors.dense(x), VectorUDT())\n",
    "df_features_extraction_1 = df_features_extraction.select(col(\"path\"),  col(\"label\"), to_vector(df_features_extraction[\"features_extraction_ResNet50\"]).alias(\"features_extraction_ResNet50\")) "
   ]
  },
  {
   "cell_type": "markdown",
   "metadata": {},
   "source": [
    "## Preprocessing \n",
    "\n",
    "\n",
    "\n",
    "- [X] <font color=blue> PCA\n",
    " \n",
    "> k=7\n",
    "    \n",
    "> 55% variance expliquée pour 2 components"
   ]
  },
  {
   "cell_type": "markdown",
   "metadata": {},
   "source": [
    "### Standarscaler (scaling)"
   ]
  },
  {
   "cell_type": "code",
   "execution_count": 17,
   "metadata": {},
   "outputs": [
    {
     "data": {
      "application/vnd.jupyter.widget-view+json": {
       "model_id": "eb25fd44a04c4438882279ecfbab71ba",
       "version_major": 2,
       "version_minor": 0
      },
      "text/plain": [
       "VBox()"
      ]
     },
     "metadata": {},
     "output_type": "display_data"
    },
    {
     "data": {
      "application/vnd.jupyter.widget-view+json": {
       "model_id": "",
       "version_major": 2,
       "version_minor": 0
      },
      "text/plain": [
       "FloatProgress(value=0.0, bar_style='info', description='Progress:', layout=Layout(height='25px', width='50%'),…"
      ]
     },
     "metadata": {},
     "output_type": "display_data"
    }
   ],
   "source": [
    "# standardiser les features extractions Resnet50\n",
    "scaler = StandardScaler(withMean=True, withStd=True,\n",
    "                              inputCol='features_extraction_ResNet50',\n",
    "                              outputCol='features_scaled_StandardScaler')\n",
    "scaler_fit = scaler.fit(df_features_extraction_1)\n",
    "df_features_scaled = scaler_fit.transform(df_features_extraction_1)"
   ]
  },
  {
   "cell_type": "code",
   "execution_count": 18,
   "metadata": {},
   "outputs": [
    {
     "data": {
      "application/vnd.jupyter.widget-view+json": {
       "model_id": "2e1ab71e50ff4bed864fae5358440458",
       "version_major": 2,
       "version_minor": 0
      },
      "text/plain": [
       "VBox()"
      ]
     },
     "metadata": {},
     "output_type": "display_data"
    },
    {
     "data": {
      "application/vnd.jupyter.widget-view+json": {
       "model_id": "",
       "version_major": 2,
       "version_minor": 0
      },
      "text/plain": [
       "FloatProgress(value=0.0, bar_style='info', description='Progress:', layout=Layout(height='25px', width='50%'),…"
      ]
     },
     "metadata": {},
     "output_type": "display_data"
    },
    {
     "name": "stdout",
     "output_type": "stream",
     "text": [
      "root\n",
      " |-- path: string (nullable = true)\n",
      " |-- label: string (nullable = true)\n",
      " |-- features_extraction_ResNet50: vector (nullable = true)\n",
      " |-- features_scaled_StandardScaler: vector (nullable = true)\n",
      "\n",
      "+--------------------+---------+----------------------------+------------------------------+\n",
      "|                path|    label|features_extraction_ResNet50|features_scaled_StandardScaler|\n",
      "+--------------------+---------+----------------------------+------------------------------+\n",
      "|s3a://ocfruitsp8/...|raspberry|        [0.0,0.0,0.0,0.0,...|          [0.0,0.0,0.0,0.0,...|\n",
      "|s3a://ocfruitsp8/...|raspberry|        [0.0,0.0,0.0,0.0,...|          [0.0,0.0,0.0,0.0,...|\n",
      "|s3a://ocfruitsp8/...|raspberry|        [0.0,0.0,0.0,0.0,...|          [0.0,0.0,0.0,0.0,...|\n",
      "|s3a://ocfruitsp8/...|raspberry|        [0.0,0.0,0.0,0.0,...|          [0.0,0.0,0.0,0.0,...|\n",
      "|s3a://ocfruitsp8/...|raspberry|        [0.0,0.0,0.0,0.0,...|          [0.0,0.0,0.0,0.0,...|\n",
      "|s3a://ocfruitsp8/...|raspberry|        [0.0,0.0,0.0,0.0,...|          [0.0,0.0,0.0,0.0,...|\n",
      "|s3a://ocfruitsp8/...|raspberry|        [0.0,0.0,0.0,0.0,...|          [0.0,0.0,0.0,0.0,...|\n",
      "|s3a://ocfruitsp8/...|raspberry|        [0.0,0.0,0.0,0.0,...|          [0.0,0.0,0.0,0.0,...|\n",
      "|s3a://ocfruitsp8/...|raspberry|        [0.0,0.0,0.0,0.0,...|          [0.0,0.0,0.0,0.0,...|\n",
      "|s3a://ocfruitsp8/...|raspberry|        [0.0,0.0,0.0,0.0,...|          [0.0,0.0,0.0,0.0,...|\n",
      "|s3a://ocfruitsp8/...|raspberry|        [0.0,0.0,0.0,0.0,...|          [0.0,0.0,0.0,0.0,...|\n",
      "|s3a://ocfruitsp8/...|raspberry|        [0.0,0.0,0.0,0.0,...|          [0.0,0.0,0.0,0.0,...|\n",
      "|s3a://ocfruitsp8/...|raspberry|        [0.0,0.0,0.0,0.0,...|          [0.0,0.0,0.0,0.0,...|\n",
      "|s3a://ocfruitsp8/...|raspberry|        [0.0,0.0,0.0,0.0,...|          [0.0,0.0,0.0,0.0,...|\n",
      "|s3a://ocfruitsp8/...|raspberry|        [0.0,0.0,0.0,0.0,...|          [0.0,0.0,0.0,0.0,...|\n",
      "|s3a://ocfruitsp8/...|    mango|        [0.0,0.0,0.0,0.0,...|          [0.0,0.0,0.0,0.0,...|\n",
      "|s3a://ocfruitsp8/...|    mango|        [0.0,0.0,0.0,0.0,...|          [0.0,0.0,0.0,0.0,...|\n",
      "|s3a://ocfruitsp8/...|    mango|        [0.0,0.0,0.0,0.0,...|          [0.0,0.0,0.0,0.0,...|\n",
      "|s3a://ocfruitsp8/...|    mango|        [0.0,0.0,0.0,0.0,...|          [0.0,0.0,0.0,0.0,...|\n",
      "|s3a://ocfruitsp8/...|    mango|        [0.0,0.0,0.0,0.0,...|          [0.0,0.0,0.0,0.0,...|\n",
      "+--------------------+---------+----------------------------+------------------------------+\n",
      "only showing top 20 rows"
     ]
    }
   ],
   "source": [
    "# Afficher features extractions scaled avec standarscaler\n",
    "df_features_scaled.printSchema()\n",
    "df_features_scaled.show() "
   ]
  },
  {
   "cell_type": "code",
   "execution_count": 20,
   "metadata": {},
   "outputs": [
    {
     "data": {
      "application/vnd.jupyter.widget-view+json": {
       "model_id": "f51ab63c692c42d0bf3d8af65e7e5bbe",
       "version_major": 2,
       "version_minor": 0
      },
      "text/plain": [
       "VBox()"
      ]
     },
     "metadata": {},
     "output_type": "display_data"
    },
    {
     "data": {
      "application/vnd.jupyter.widget-view+json": {
       "model_id": "",
       "version_major": 2,
       "version_minor": 0
      },
      "text/plain": [
       "FloatProgress(value=0.0, bar_style='info', description='Progress:', layout=Layout(height='25px', width='50%'),…"
      ]
     },
     "metadata": {},
     "output_type": "display_data"
    }
   ],
   "source": [
    "# fit et transform PCA sur les données features_scaled_StandardScale\n",
    "PCA = PCA(k=7, inputCol=\"features_scaled_StandardScaler\", outputCol=\"features_pca\")\n",
    "model_PCA_fit = PCA.fit(df_features_scaled)\n",
    "PCA_transformed = model_PCA_fit.transform(df_features_scaled)"
   ]
  },
  {
   "cell_type": "code",
   "execution_count": 21,
   "metadata": {},
   "outputs": [
    {
     "data": {
      "application/vnd.jupyter.widget-view+json": {
       "model_id": "7161d6d69d0d4a53bb9f7194d3a5e684",
       "version_major": 2,
       "version_minor": 0
      },
      "text/plain": [
       "VBox()"
      ]
     },
     "metadata": {},
     "output_type": "display_data"
    },
    {
     "data": {
      "application/vnd.jupyter.widget-view+json": {
       "model_id": "",
       "version_major": 2,
       "version_minor": 0
      },
      "text/plain": [
       "FloatProgress(value=0.0, bar_style='info', description='Progress:', layout=Layout(height='25px', width='50%'),…"
      ]
     },
     "metadata": {},
     "output_type": "display_data"
    },
    {
     "name": "stdout",
     "output_type": "stream",
     "text": [
      "root\n",
      " |-- path: string (nullable = true)\n",
      " |-- label: string (nullable = true)\n",
      " |-- features_extraction_ResNet50: vector (nullable = true)\n",
      " |-- features_scaled_StandardScaler: vector (nullable = true)\n",
      " |-- features_pca: vector (nullable = true)\n",
      "\n",
      "+--------------------+---------+----------------------------+------------------------------+--------------------+\n",
      "|                path|    label|features_extraction_ResNet50|features_scaled_StandardScaler|        features_pca|\n",
      "+--------------------+---------+----------------------------+------------------------------+--------------------+\n",
      "|s3a://ocfruitsp8/...|raspberry|        [0.0,0.0,0.0,0.0,...|          [0.0,0.0,0.0,0.0,...|[98.3656270320505...|\n",
      "|s3a://ocfruitsp8/...|raspberry|        [0.0,0.0,0.0,0.0,...|          [0.0,0.0,0.0,0.0,...|[88.7803466332628...|\n",
      "|s3a://ocfruitsp8/...|raspberry|        [0.0,0.0,0.0,0.0,...|          [0.0,0.0,0.0,0.0,...|[95.7223947966706...|\n",
      "|s3a://ocfruitsp8/...|raspberry|        [0.0,0.0,0.0,0.0,...|          [0.0,0.0,0.0,0.0,...|[104.156610510264...|\n",
      "|s3a://ocfruitsp8/...|raspberry|        [0.0,0.0,0.0,0.0,...|          [0.0,0.0,0.0,0.0,...|[87.7651299642067...|\n",
      "|s3a://ocfruitsp8/...|raspberry|        [0.0,0.0,0.0,0.0,...|          [0.0,0.0,0.0,0.0,...|[90.9680860429685...|\n",
      "|s3a://ocfruitsp8/...|raspberry|        [0.0,0.0,0.0,0.0,...|          [0.0,0.0,0.0,0.0,...|[89.8776923367680...|\n",
      "|s3a://ocfruitsp8/...|raspberry|        [0.0,0.0,0.0,0.0,...|          [0.0,0.0,0.0,0.0,...|[92.0226157636020...|\n",
      "|s3a://ocfruitsp8/...|raspberry|        [0.0,0.0,0.0,0.0,...|          [0.0,0.0,0.0,0.0,...|[89.4623227934633...|\n",
      "|s3a://ocfruitsp8/...|raspberry|        [0.0,0.0,0.0,0.0,...|          [0.0,0.0,0.0,0.0,...|[95.6694779208875...|\n",
      "|s3a://ocfruitsp8/...|raspberry|        [0.0,0.0,0.0,0.0,...|          [0.0,0.0,0.0,0.0,...|[89.8530285023048...|\n",
      "|s3a://ocfruitsp8/...|raspberry|        [0.0,0.0,0.0,0.0,...|          [0.0,0.0,0.0,0.0,...|[91.8247326805034...|\n",
      "|s3a://ocfruitsp8/...|raspberry|        [0.0,0.0,0.0,0.0,...|          [0.0,0.0,0.0,0.0,...|[94.3949962773765...|\n",
      "|s3a://ocfruitsp8/...|raspberry|        [0.0,0.0,0.0,0.0,...|          [0.0,0.0,0.0,0.0,...|[93.8360389146308...|\n",
      "|s3a://ocfruitsp8/...|raspberry|        [0.0,0.0,0.0,0.0,...|          [0.0,0.0,0.0,0.0,...|[91.4965047227552...|\n",
      "|s3a://ocfruitsp8/...|    mango|        [0.0,0.0,0.0,0.0,...|          [0.0,0.0,0.0,0.0,...|[-84.965653169756...|\n",
      "|s3a://ocfruitsp8/...|    mango|        [0.0,0.0,0.0,0.0,...|          [0.0,0.0,0.0,0.0,...|[-86.810272337466...|\n",
      "|s3a://ocfruitsp8/...|    mango|        [0.0,0.0,0.0,0.0,...|          [0.0,0.0,0.0,0.0,...|[-84.428132693828...|\n",
      "|s3a://ocfruitsp8/...|    mango|        [0.0,0.0,0.0,0.0,...|          [0.0,0.0,0.0,0.0,...|[-88.516856670406...|\n",
      "|s3a://ocfruitsp8/...|    mango|        [0.0,0.0,0.0,0.0,...|          [0.0,0.0,0.0,0.0,...|[-106.13608345547...|\n",
      "+--------------------+---------+----------------------------+------------------------------+--------------------+\n",
      "only showing top 20 rows"
     ]
    }
   ],
   "source": [
    "# afficher dataframe avec features PCA\n",
    "PCA_transformed.printSchema()\n",
    "PCA_transformed.show()"
   ]
  },
  {
   "cell_type": "code",
   "execution_count": 27,
   "metadata": {},
   "outputs": [
    {
     "data": {
      "application/vnd.jupyter.widget-view+json": {
       "model_id": "df85af4e95f3413d893d876a6e367f06",
       "version_major": 2,
       "version_minor": 0
      },
      "text/plain": [
       "VBox()"
      ]
     },
     "metadata": {},
     "output_type": "display_data"
    },
    {
     "data": {
      "application/vnd.jupyter.widget-view+json": {
       "model_id": "",
       "version_major": 2,
       "version_minor": 0
      },
      "text/plain": [
       "FloatProgress(value=0.0, bar_style='info', description='Progress:', layout=Layout(height='25px', width='50%'),…"
      ]
     },
     "metadata": {},
     "output_type": "display_data"
    }
   ],
   "source": [
    "# afficher plot pour la variance expliquée en fonction nombre composante PCA\n",
    "var = model_PCA_fit.explainedVariance.cumsum()\n",
    "plt.figure(figsize=(12,8))\n",
    "sns.lineplot(x=[i for i in range(8)], y=np.insert(var,0,0)*100,marker=\"o\")\n",
    "plt.title(\"Scree plot\", size=30)\n",
    "plt.xlabel('Principal component', fontsize=22)\n",
    "plt.ylabel('Variance_explained %', fontsize=22)\n",
    "plt.ylim(0,100)\n",
    "plt.show()"
   ]
  },
  {
   "cell_type": "code",
   "execution_count": 29,
   "metadata": {},
   "outputs": [
    {
     "data": {
      "application/vnd.jupyter.widget-view+json": {
       "model_id": "3040c89167094ff580cdaa05cd22f401",
       "version_major": 2,
       "version_minor": 0
      },
      "text/plain": [
       "VBox()"
      ]
     },
     "metadata": {},
     "output_type": "display_data"
    },
    {
     "data": {
      "application/vnd.jupyter.widget-view+json": {
       "model_id": "",
       "version_major": 2,
       "version_minor": 0
      },
      "text/plain": [
       "FloatProgress(value=0.0, bar_style='info', description='Progress:', layout=Layout(height='25px', width='50%'),…"
      ]
     },
     "metadata": {},
     "output_type": "display_data"
    },
    {
     "name": "stdout",
     "output_type": "stream",
     "text": [
      "array([0.3847107 , 0.54991919, 0.70502387, 0.80705559, 0.87827463,\n",
      "       0.93989402, 1.        ])"
     ]
    }
   ],
   "source": [
    "# la variance expliquée pour chaques dimensions\n",
    "var"
   ]
  },
  {
   "cell_type": "code",
   "execution_count": 28,
   "metadata": {},
   "outputs": [
    {
     "data": {
      "application/vnd.jupyter.widget-view+json": {
       "model_id": "d067c6fc7e034fdeb1751dd5df483644",
       "version_major": 2,
       "version_minor": 0
      },
      "text/plain": [
       "VBox()"
      ]
     },
     "metadata": {},
     "output_type": "display_data"
    },
    {
     "data": {
      "application/vnd.jupyter.widget-view+json": {
       "model_id": "",
       "version_major": 2,
       "version_minor": 0
      },
      "text/plain": [
       "FloatProgress(value=0.0, bar_style='info', description='Progress:', layout=Layout(height='25px', width='50%'),…"
      ]
     },
     "metadata": {},
     "output_type": "display_data"
    },
    {
     "data": {
      "image/png": "[encoded data removed]",
      "text/plain": [
       "<IPython.core.display.Image object>"
      ]
     },
     "metadata": {},
     "output_type": "display_data"
    }
   ],
   "source": [
    "# pour afficher plot sur notebook EMR\n",
    "%matplot plt"
   ]
  },
  {
   "cell_type": "code",
   "execution_count": 49,
   "metadata": {},
   "outputs": [
    {
     "data": {
      "application/vnd.jupyter.widget-view+json": {
       "model_id": "afaccc0debc341aebf486f1216bb6cfc",
       "version_major": 2,
       "version_minor": 0
      },
      "text/plain": [
       "VBox()"
      ]
     },
     "metadata": {},
     "output_type": "display_data"
    },
    {
     "data": {
      "application/vnd.jupyter.widget-view+json": {
       "model_id": "",
       "version_major": 2,
       "version_minor": 0
      },
      "text/plain": [
       "FloatProgress(value=0.0, bar_style='info', description='Progress:', layout=Layout(height='25px', width='50%'),…"
      ]
     },
     "metadata": {},
     "output_type": "display_data"
    },
    {
     "name": "stdout",
     "output_type": "stream",
     "text": [
      "                                                 path  ...                                       features_pca\n",
      "0    s3a://ocfruitsp8/fruits_emr/raspberry/10_100.jpg  ...  [98.36562703205053, -109.32981338579948, -25.6...\n",
      "1   s3a://ocfruitsp8/fruits_emr/raspberry/122_100.jpg  ...  [88.78034663326282, 48.41495427042844, 12.0250...\n",
      "2    s3a://ocfruitsp8/fruits_emr/raspberry/11_100.jpg  ...  [95.72239479667061, -106.50639570287781, -25.2...\n",
      "3    s3a://ocfruitsp8/fruits_emr/raspberry/12_100.jpg  ...  [104.15661051026423, -111.18585027992566, -22....\n",
      "4   s3a://ocfruitsp8/fruits_emr/raspberry/120_100.jpg  ...  [87.76512996420675, 59.18856392184659, 13.8714...\n",
      "5   s3a://ocfruitsp8/fruits_emr/raspberry/121_100.jpg  ...  [90.96808604296854, 52.52509875137343, 13.2983...\n",
      "6   s3a://ocfruitsp8/fruits_emr/raspberry/119_100.jpg  ...  [89.87769233676806, 58.55758838180512, 13.1959...\n",
      "7     s3a://ocfruitsp8/fruits_emr/raspberry/1_100.jpg  ...  [92.02261576360209, -124.20349047817433, -26.1...\n",
      "8   s3a://ocfruitsp8/fruits_emr/raspberry/118_100.jpg  ...  [89.46232279346336, 59.12461282691168, 12.8463...\n",
      "9   s3a://ocfruitsp8/fruits_emr/raspberry/116_100.jpg  ...  [95.66947792088757, 71.29659793219341, 16.3315...\n",
      "10  s3a://ocfruitsp8/fruits_emr/raspberry/115_100.jpg  ...  [89.85302850230484, 64.12540514611185, 14.7434...\n",
      "11    s3a://ocfruitsp8/fruits_emr/raspberry/0_100.jpg  ...  [91.82473268050346, -135.87607391798062, -28.8...\n",
      "12  s3a://ocfruitsp8/fruits_emr/raspberry/113_100.jpg  ...  [94.39499627737652, 62.706447626369275, 16.248...\n",
      "13  s3a://ocfruitsp8/fruits_emr/raspberry/117_100.jpg  ...  [93.83603891463089, 68.20368414185323, 15.8513...\n",
      "14  s3a://ocfruitsp8/fruits_emr/raspberry/114_100.jpg  ...  [91.49650472275522, 56.149195112843096, 12.786...\n",
      "15      s3a://ocfruitsp8/fruits_emr/mango/102_100.jpg  ...  [-84.96565316975641, 2.2728141959161925, -17.0...\n",
      "16      s3a://ocfruitsp8/fruits_emr/mango/101_100.jpg  ...  [-86.81027233746694, 1.439923793670195, -14.88...\n",
      "17      s3a://ocfruitsp8/fruits_emr/mango/100_100.jpg  ...  [-84.42813269382802, 1.1572484254611517, -19.0...\n",
      "18      s3a://ocfruitsp8/fruits_emr/mango/104_100.jpg  ...  [-88.51685667040636, 3.8001078056052386, -22.7...\n",
      "19      s3a://ocfruitsp8/fruits_emr/mango/113_100.jpg  ...  [-106.13608345547642, 4.571158242155708, -19.9...\n",
      "20      s3a://ocfruitsp8/fruits_emr/mango/106_100.jpg  ...  [-90.32784156932432, 4.528717972675885, -23.31...\n",
      "21      s3a://ocfruitsp8/fruits_emr/mango/103_100.jpg  ...  [-87.88448694338483, 3.6439212213202996, -21.0...\n",
      "22      s3a://ocfruitsp8/fruits_emr/mango/105_100.jpg  ...  [-84.71707630843977, 3.9285760814618715, -25.7...\n",
      "23      s3a://ocfruitsp8/fruits_emr/mango/110_100.jpg  ...  [-98.79319580623404, 7.127576697238211, -27.20...\n",
      "24      s3a://ocfruitsp8/fruits_emr/mango/108_100.jpg  ...  [-98.047896993025, 4.4341983987564015, -22.469...\n",
      "25      s3a://ocfruitsp8/fruits_emr/mango/111_100.jpg  ...  [-99.43484973255173, 5.947361462154643, -25.96...\n",
      "26      s3a://ocfruitsp8/fruits_emr/mango/107_100.jpg  ...  [-92.16145902164787, 5.203360889919818, -26.89...\n",
      "27      s3a://ocfruitsp8/fruits_emr/mango/109_100.jpg  ...  [-93.1275482081307, 6.79330168973013, -28.1378...\n",
      "28      s3a://ocfruitsp8/fruits_emr/mango/112_100.jpg  ...  [-100.04650559370691, 5.2964154352499415, -22....\n",
      "29       s3a://ocfruitsp8/fruits_emr/mango/13_100.jpg  ...  [-98.79774638833769, -73.33520665826174, 303.5...\n",
      "\n",
      "[30 rows x 3 columns]"
     ]
    }
   ],
   "source": [
    "# Select colonnes et transform pandas\n",
    "transformed_final = PCA_transformed.select('path', 'label', 'features_pca')\n",
    "df_pandas = transformed_final.toPandas()\n",
    "df_pandas"
   ]
  },
  {
   "cell_type": "code",
   "execution_count": 50,
   "metadata": {},
   "outputs": [
    {
     "data": {
      "application/vnd.jupyter.widget-view+json": {
       "model_id": "482cf270a3f04b1e9f668531c5e475de",
       "version_major": 2,
       "version_minor": 0
      },
      "text/plain": [
       "VBox()"
      ]
     },
     "metadata": {},
     "output_type": "display_data"
    },
    {
     "data": {
      "application/vnd.jupyter.widget-view+json": {
       "model_id": "",
       "version_major": 2,
       "version_minor": 0
      },
      "text/plain": [
       "FloatProgress(value=0.0, bar_style='info', description='Progress:', layout=Layout(height='25px', width='50%'),…"
      ]
     },
     "metadata": {},
     "output_type": "display_data"
    },
    {
     "name": "stdout",
     "output_type": "stream",
     "text": [
      "        label                                       features_pca\n",
      "0   raspberry  [98.36562703205053, -109.32981338579948, -25.6...\n",
      "1   raspberry  [88.78034663326282, 48.41495427042844, 12.0250...\n",
      "2   raspberry  [95.72239479667061, -106.50639570287781, -25.2...\n",
      "3   raspberry  [104.15661051026423, -111.18585027992566, -22....\n",
      "4   raspberry  [87.76512996420675, 59.18856392184659, 13.8714...\n",
      "5   raspberry  [90.96808604296854, 52.52509875137343, 13.2983...\n",
      "6   raspberry  [89.87769233676806, 58.55758838180512, 13.1959...\n",
      "7   raspberry  [92.02261576360209, -124.20349047817433, -26.1...\n",
      "8   raspberry  [89.46232279346336, 59.12461282691168, 12.8463...\n",
      "9   raspberry  [95.66947792088757, 71.29659793219341, 16.3315...\n",
      "10  raspberry  [89.85302850230484, 64.12540514611185, 14.7434...\n",
      "11  raspberry  [91.82473268050346, -135.87607391798062, -28.8...\n",
      "12  raspberry  [94.39499627737652, 62.706447626369275, 16.248...\n",
      "13  raspberry  [93.83603891463089, 68.20368414185323, 15.8513...\n",
      "14  raspberry  [91.49650472275522, 56.149195112843096, 12.786...\n",
      "15      mango  [-84.96565316975641, 2.2728141959161925, -17.0...\n",
      "16      mango  [-86.81027233746694, 1.439923793670195, -14.88...\n",
      "17      mango  [-84.42813269382802, 1.1572484254611517, -19.0...\n",
      "18      mango  [-88.51685667040636, 3.8001078056052386, -22.7...\n",
      "19      mango  [-106.13608345547642, 4.571158242155708, -19.9...\n",
      "20      mango  [-90.32784156932432, 4.528717972675885, -23.31...\n",
      "21      mango  [-87.88448694338483, 3.6439212213202996, -21.0...\n",
      "22      mango  [-84.71707630843977, 3.9285760814618715, -25.7...\n",
      "23      mango  [-98.79319580623404, 7.127576697238211, -27.20...\n",
      "24      mango  [-98.047896993025, 4.4341983987564015, -22.469...\n",
      "25      mango  [-99.43484973255173, 5.947361462154643, -25.96...\n",
      "26      mango  [-92.16145902164787, 5.203360889919818, -26.89...\n",
      "27      mango  [-93.1275482081307, 6.79330168973013, -28.1378...\n",
      "28      mango  [-100.04650559370691, 5.2964154352499415, -22....\n",
      "29      mango  [-98.79774638833769, -73.33520665826174, 303.5..."
     ]
    }
   ],
   "source": [
    "df_pandas[['label', 'features_pca']]"
   ]
  },
  {
   "cell_type": "code",
   "execution_count": 51,
   "metadata": {},
   "outputs": [
    {
     "data": {
      "application/vnd.jupyter.widget-view+json": {
       "model_id": "45fcc705f0bf4ae1852473841f76c009",
       "version_major": 2,
       "version_minor": 0
      },
      "text/plain": [
       "VBox()"
      ]
     },
     "metadata": {},
     "output_type": "display_data"
    },
    {
     "data": {
      "application/vnd.jupyter.widget-view+json": {
       "model_id": "",
       "version_major": 2,
       "version_minor": 0
      },
      "text/plain": [
       "FloatProgress(value=0.0, bar_style='info', description='Progress:', layout=Layout(height='25px', width='50%'),…"
      ]
     },
     "metadata": {},
     "output_type": "display_data"
    }
   ],
   "source": [
    "# Récupérer pca1 , pca2, pca3\n",
    "X_pca1 = df_pandas['features_pca'].apply(lambda x :x[0])\n",
    "X_pca2 = df_pandas['features_pca'].apply(lambda x :x[1])\n",
    "X_pca3 = df_pandas['features_pca'].apply(lambda x :x[2])\n",
    "df_plot = df_pandas[['label']]\n",
    "df_plot['pca_1']= X_pca1\n",
    "df_plot['pca_2']= X_pca2\n",
    "df_plot['pca_3']= X_pca3"
   ]
  },
  {
   "cell_type": "code",
   "execution_count": 52,
   "metadata": {},
   "outputs": [
    {
     "data": {
      "application/vnd.jupyter.widget-view+json": {
       "model_id": "da56b72a720f47e2806ba921cad8f1e3",
       "version_major": 2,
       "version_minor": 0
      },
      "text/plain": [
       "VBox()"
      ]
     },
     "metadata": {},
     "output_type": "display_data"
    },
    {
     "data": {
      "application/vnd.jupyter.widget-view+json": {
       "model_id": "",
       "version_major": 2,
       "version_minor": 0
      },
      "text/plain": [
       "FloatProgress(value=0.0, bar_style='info', description='Progress:', layout=Layout(height='25px', width='50%'),…"
      ]
     },
     "metadata": {},
     "output_type": "display_data"
    },
    {
     "name": "stdout",
     "output_type": "stream",
     "text": [
      "        label       pca_1       pca_2       pca_3\n",
      "0   raspberry   98.365627 -109.329813  -25.630565\n",
      "1   raspberry   88.780347   48.414954   12.025070\n",
      "2   raspberry   95.722395 -106.506396  -25.273432\n",
      "3   raspberry  104.156611 -111.185850  -22.207238\n",
      "4   raspberry   87.765130   59.188564   13.871435\n",
      "5   raspberry   90.968086   52.525099   13.298337\n",
      "6   raspberry   89.877692   58.557588   13.195912\n",
      "7   raspberry   92.022616 -124.203490  -26.195783\n",
      "8   raspberry   89.462323   59.124613   12.846322\n",
      "9   raspberry   95.669478   71.296598   16.331522\n",
      "10  raspberry   89.853029   64.125405   14.743420\n",
      "11  raspberry   91.824733 -135.876074  -28.887140\n",
      "12  raspberry   94.394996   62.706448   16.248763\n",
      "13  raspberry   93.836039   68.203684   15.851379\n",
      "14  raspberry   91.496505   56.149195   12.786699\n",
      "15      mango  -84.965653    2.272814  -17.089825\n",
      "16      mango  -86.810272    1.439924  -14.885221\n",
      "17      mango  -84.428133    1.157248  -19.014215\n",
      "18      mango  -88.516857    3.800108  -22.795598\n",
      "19      mango -106.136083    4.571158  -19.959947\n",
      "20      mango  -90.327842    4.528718  -23.310082\n",
      "21      mango  -87.884487    3.643921  -21.015396\n",
      "22      mango  -84.717076    3.928576  -25.780871\n",
      "23      mango  -98.793196    7.127577  -27.202470\n",
      "24      mango  -98.047897    4.434198  -22.469441\n",
      "25      mango  -99.434850    5.947361  -25.960976\n",
      "26      mango  -92.161459    5.203361  -26.893581\n",
      "27      mango  -93.127548    6.793302  -28.137858\n",
      "28      mango -100.046506    5.296415  -22.081694\n",
      "29      mango  -98.797746  -73.335207  303.592473"
     ]
    }
   ],
   "source": [
    "# Voir dataframe avce les 3 dimensions PCA\n",
    "df_plot"
   ]
  },
  {
   "cell_type": "code",
   "execution_count": 47,
   "metadata": {},
   "outputs": [
    {
     "data": {
      "application/vnd.jupyter.widget-view+json": {
       "model_id": "2c08b4007ed74106a8cb09f4770b8fab",
       "version_major": 2,
       "version_minor": 0
      },
      "text/plain": [
       "VBox()"
      ]
     },
     "metadata": {},
     "output_type": "display_data"
    },
    {
     "data": {
      "application/vnd.jupyter.widget-view+json": {
       "model_id": "",
       "version_major": 2,
       "version_minor": 0
      },
      "text/plain": [
       "FloatProgress(value=0.0, bar_style='info', description='Progress:', layout=Layout(height='25px', width='50%'),…"
      ]
     },
     "metadata": {},
     "output_type": "display_data"
    },
    {
     "data": {
      "image/png": "[encoded data removed]",
      "text/plain": [
       "<IPython.core.display.Image object>"
      ]
     },
     "metadata": {},
     "output_type": "display_data"
    }
   ],
   "source": [
    "# afficher plot 2D avec les 2 premières composantes de la PCA \n",
    "plt.figure(figsize=(12,8))\n",
    "sns.scatterplot(x = df_plot.iloc[0:15,1], y = df_plot.iloc[0:15,2], data = df_plot,label='Raspberry', marker=\"x\", color=\"red\", s=70)\n",
    "sns.scatterplot(x = df_plot.iloc[15:,1], y = df_plot.iloc[15:,2], data = df_plot, label=\"Mango\",marker=\"o\", color=\"blue\", s=70)\n",
    "plt.title(\"Projection of fruits on PC1 and PC2\",size=25)\n",
    "plt.xlabel(\"PC1\")\n",
    "plt.ylabel(\"PC2\")\n",
    "plt.legend(loc = \"center\", fontsize=20)\n",
    "plt.tight_layout()\n",
    "plt.show()\n",
    "# pour afficher plot sur EMR notebook\n",
    "%matplot plt"
   ]
  },
  {
   "cell_type": "code",
   "execution_count": 55,
   "metadata": {},
   "outputs": [],
   "source": [
    "# sauvergarder dataframe pandas dans S3 bucket\n",
    "df_final_pandas.to_csv('s3://bucketsavedata/pca_result/pca_result.csv', index=False)"
   ]
  },
  {
   "cell_type": "code",
   "execution_count": null,
   "metadata": {},
   "outputs": [],
   "source": []
  }
 ],
 "metadata": {
  "kernelspec": {
   "display_name": "Python 3 (ipykernel)",
   "language": "python",
   "name": "python3"
  },
  "language_info": {
   "codemirror_mode": {
    "name": "ipython",
    "version": 3
   },
   "file_extension": ".py",
   "mimetype": "text/x-python",
   "name": "python",
   "nbconvert_exporter": "python",
   "pygments_lexer": "ipython3",
   "version": "3.7.6"
  },
  "nbTranslate": {
   "displayLangs": [
    "*"
   ],
   "hotkey": "alt-t",
   "langInMainMenu": true,
   "sourceLang": "en",
   "targetLang": "fr",
   "useGoogleTranslate": true
  },
  "toc": {
   "base_numbering": 1,
   "nav_menu": {},
   "number_sections": true,
   "sideBar": true,
   "skip_h1_title": false,
   "title_cell": "Table of Contents",
   "title_sidebar": "Contents",
   "toc_cell": false,
   "toc_position": {},
   "toc_section_display": true,
   "toc_window_display": false
  },
  "varInspector": {
   "cols": {
    "lenName": 16,
    "lenType": 16,
    "lenVar": 40
   },
   "kernels_config": {
    "python": {
     "delete_cmd_postfix": "",
     "delete_cmd_prefix": "del ",
     "library": "var_list.py",
     "varRefreshCmd": "print(var_dic_list())"
    },
    "r": {
     "delete_cmd_postfix": ") ",
     "delete_cmd_prefix": "rm(",
     "library": "var_list.r",
     "varRefreshCmd": "cat(var_dic_list()) "
    }
   },
   "types_to_exclude": [
    "module",
    "function",
    "builtin_function_or_method",
    "instance",
    "_Feature"
   ],
   "window_display": false
  }
 },
 "nbformat": 4,
 "nbformat_minor": 5
}
